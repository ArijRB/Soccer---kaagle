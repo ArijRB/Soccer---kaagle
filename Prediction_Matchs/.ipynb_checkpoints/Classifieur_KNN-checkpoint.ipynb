{
 "cells": [
  {
   "cell_type": "markdown",
   "metadata": {},
   "source": [
    "# Prediction des resultats des match avec KNN"
   ]
  },
  {
   "cell_type": "code",
   "execution_count": 1,
   "metadata": {},
   "outputs": [],
   "source": [
    "import numpy as np\n",
    "import pandas as pd\n",
    "import matplotlib.pyplot as plt\n",
    "# Permet d'afficher les figures directement dans le notebook:\n",
    "%matplotlib inline\n",
    "%run ./classes_utiles_learning.ipynb"
   ]
  },
  {
   "cell_type": "code",
   "execution_count": 2,
   "metadata": {},
   "outputs": [],
   "source": [
    "train_data = np.load(\"./train_data.npy\")\n",
    "train_labels = np.load(\"./train_labels.npy\")\n",
    "test_data = np.load(\"./test_data.npy\")\n",
    "test_labels = np.load(\"./test_labels.npy\")"
   ]
  },
  {
   "cell_type": "code",
   "execution_count": 3,
   "metadata": {},
   "outputs": [],
   "source": [
    "train_set = LabeledSet(len(train_data[0]))\n",
    "for i in range(len(train_data)):\n",
    "    train_set.addExample(train_data[i], [train_labels[i]])"
   ]
  },
  {
   "cell_type": "code",
   "execution_count": 4,
   "metadata": {},
   "outputs": [],
   "source": [
    "test_set = LabeledSet(len(test_data[0]))\n",
    "for i in range(len(test_data)):\n",
    "    test_set.addExample(test_data[i], [test_labels[i]])"
   ]
  },
  {
   "cell_type": "code",
   "execution_count": 5,
   "metadata": {},
   "outputs": [],
   "source": [
    "class KNN(Classifier):\n",
    "    \n",
    "    def __init__(self, input_dimension, valeur_de_k):\n",
    "        self.input_dimension = input_dimension\n",
    "        self.k = valeur_de_k\n",
    "    \n",
    "    def predict(self, x):\n",
    "        n = []\n",
    "        for i in range(self.donnees.size()):\n",
    "            n.append(np.linalg.norm(x - self.donnees.getX(i)))\n",
    "        res = 0\n",
    "        ind = np.argsort(n)\n",
    "        for i in range(self.k):\n",
    "            res = res + self.donnees.getY(ind[i])\n",
    "        if((res*1.0 / self.k)>=0):\n",
    "            return +1\n",
    "        return -1\n",
    "    \n",
    "    def train(self, labeledSet):\n",
    "        self.donnees = labeledSet\n",
    "    "
   ]
  },
  {
   "cell_type": "markdown",
   "metadata": {},
   "source": [
    "## On teste la valeur de l'accuracy pour différentes valeur de l'hyperparamètre k"
   ]
  },
  {
   "cell_type": "code",
   "execution_count": 6,
   "metadata": {},
   "outputs": [
    {
     "name": "stdout",
     "output_type": "stream",
     "text": [
      "debut k = 3\n",
      "fin k = 3\n",
      "debut k = 5\n",
      "fin k = 5\n",
      "debut k = 7\n",
      "fin k = 7\n",
      "debut k = 9\n",
      "fin k = 9\n",
      "debut k = 11\n",
      "fin k = 11\n",
      "debut k = 13\n",
      "fin k = 13\n",
      "debut k = 15\n",
      "fin k = 15\n",
      "debut k = 17\n",
      "fin k = 17\n",
      "debut k = 19\n",
      "fin k = 19\n",
      "debut k = 21\n",
      "fin k = 21\n",
      "debut k = 23\n",
      "fin k = 23\n",
      "debut k = 25\n",
      "fin k = 25\n",
      "debut k = 27\n",
      "fin k = 27\n",
      "debut k = 29\n",
      "fin k = 29\n",
      "debut k = 31\n",
      "fin k = 31\n",
      "debut k = 33\n",
      "fin k = 33\n"
     ]
    }
   ],
   "source": [
    "i = 3\n",
    "while(i < 35):\n",
    "    print(\"debut k = \"+ str(i))\n",
    "    knn= KNN(train_set.getInputDimension(),i)\n",
    "    knn.train(train_set)\n",
    "    accuracy=knn.accuracy(test_set)\n",
    "    np.save(\"./knn_accuracy_values/\"+str(i), [accuracy])\n",
    "    knn = None\n",
    "    print(\"fin k = \"+str(i))\n",
    "    i = i + 2"
   ]
  },
  {
   "cell_type": "code",
   "execution_count": 7,
   "metadata": {},
   "outputs": [],
   "source": [
    "i = 3\n",
    "acc = []\n",
    "pos = []\n",
    "while(i < 35):\n",
    "    pos.append(str(i))\n",
    "    acc.append(np.load(\"./knn_accuracy_values/\"+str(i)+\".npy\")[0])\n",
    "    i = i + 2"
   ]
  },
  {
   "cell_type": "code",
   "execution_count": 8,
   "metadata": {},
   "outputs": [
    {
     "data": {
      "image/png": "[encoded data removed]",
      "text/plain": [
       "<matplotlib.figure.Figure at 0x173fb393ef0>"
      ]
     },
     "metadata": {},
     "output_type": "display_data"
    }
   ],
   "source": [
    "plt.rcdefaults()\n",
    "fig, ax = plt.subplots()\n",
    "\n",
    "y_pos = np.arange(len(acc))\n",
    "    \n",
    "ax.set_yticks(y_pos)\n",
    "ax.set_yticklabels(pos)\n",
    "ax.set_ylabel('Keme-NN')\n",
    "ax.autoscale()\n",
    "ax.set_title('accuracy par K-NN')\n",
    "#fig.set_figwidth(20)\n",
    "#fig.set_figheight(15)\n",
    "\n",
    "ax.barh(y_pos, width=acc, align='center', color='blue', ecolor='black')\n",
    "\n",
    "plt.show()"
   ]
  },
  {
   "cell_type": "code",
   "execution_count": 13,
   "metadata": {},
   "outputs": [
    {
     "name": "stdout",
     "output_type": "stream",
     "text": [
      "accuracy max = 71.99739964245083 avec k = 33\n"
     ]
    }
   ],
   "source": [
    "print(\"accuracy max = \"+ str(np.load(\"./knn_accuracy_values/33.npy\")[0])+\" avec k = 33\")"
   ]
  }
 ],
 "metadata": {
  "kernelspec": {
   "display_name": "Python 3",
   "language": "python",
   "name": "python3"
  },
  "language_info": {
   "codemirror_mode": {
    "name": "ipython",
    "version": 3
   },
   "file_extension": ".py",
   "mimetype": "text/x-python",
   "name": "python",
   "nbconvert_exporter": "python",
   "pygments_lexer": "ipython3",
   "version": "3.6.3"
  }
 },
 "nbformat": 4,
 "nbformat_minor": 2
}
