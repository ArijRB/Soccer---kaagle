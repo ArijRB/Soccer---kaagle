{
 "cells": [
  {
   "cell_type": "markdown",
   "metadata": {},
   "source": [
    "# Dans ce notebook, on utilise le classifieur random pour calculer l'accuracy sur nos données d'apprentissage"
   ]
  },
  {
   "cell_type": "code",
   "execution_count": 43,
   "metadata": {},
   "outputs": [],
   "source": [
    "import numpy as np\n",
    "import pandas as pd\n",
    "import matplotlib.pyplot as plt\n",
    "# Permet d'afficher les figures directement dans le notebook:\n",
    "%matplotlib inline\n",
    "%run ./classes_utiles_learning.ipynb"
   ]
  },
  {
   "cell_type": "code",
   "execution_count": 44,
   "metadata": {},
   "outputs": [],
   "source": [
    "train_data = np.load(\"./train_data.npy\")\n",
    "train_labels = np.load(\"./train_labels.npy\")\n",
    "test_data = np.load(\"./test_data.npy\")\n",
    "test_labels = np.load(\"./test_labels.npy\")"
   ]
  },
  {
   "cell_type": "code",
   "execution_count": 45,
   "metadata": {},
   "outputs": [],
   "source": [
    "train_set = LabeledSet(len(train_data[0]))\n",
    "for i in range(len(train_data)):\n",
    "    train_set.addExample(train_data[i], [train_labels[i]])"
   ]
  },
  {
   "cell_type": "code",
   "execution_count": 46,
   "metadata": {},
   "outputs": [],
   "source": [
    "test_set = LabeledSet(len(test_data[0]))\n",
    "for i in range(len(test_data)):\n",
    "    test_set.addExample(test_data[i], [test_labels[i]])"
   ]
  },
  {
   "cell_type": "code",
   "execution_count": 47,
   "metadata": {},
   "outputs": [],
   "source": [
    "class ClassifierRandom(Classifier):\n",
    "   \n",
    "    def __init__(self, input_dimension):\n",
    "        self.w = np.random.random(input_dimension) \n",
    "        \n",
    "    def predict(self, x):\n",
    "        p = np.dot(x, self.w)\n",
    "        if(p>=0):\n",
    "            return +1\n",
    "        return -1"
   ]
  },
  {
   "cell_type": "code",
   "execution_count": 48,
   "metadata": {},
   "outputs": [
    {
     "data": {
      "text/plain": [
       "69.94961807248497"
      ]
     },
     "execution_count": 48,
     "metadata": {},
     "output_type": "execute_result"
    }
   ],
   "source": [
    "c = ClassifierRandom(len(test_data[0]))\n",
    "c.accuracy(test_set)"
   ]
  },
  {
   "cell_type": "markdown",
   "metadata": {},
   "source": [
    "Donc accuracy sur le test = 69.9%"
   ]
  }
 ],
 "metadata": {
  "kernelspec": {
   "display_name": "Python 3",
   "language": "python",
   "name": "python3"
  },
  "language_info": {
   "codemirror_mode": {
    "name": "ipython",
    "version": 3
   },
   "file_extension": ".py",
   "mimetype": "text/x-python",
   "name": "python",
   "nbconvert_exporter": "python",
   "pygments_lexer": "ipython3",
   "version": "3.6.3"
  }
 },
 "nbformat": 4,
 "nbformat_minor": 2
}
