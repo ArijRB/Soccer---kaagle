{
 "cells": [
  {
   "cell_type": "markdown",
   "metadata": {},
   "source": [
    "# Ce notebook sert à implémenter une fonction généralisée qui permet de calculer la corrélation entre 2 attributs quelconques de la table playerAttributes, afin de rendre notre analyse de données plus généralisés et facilités"
   ]
  },
  {
   "cell_type": "code",
   "execution_count": 1,
   "metadata": {},
   "outputs": [],
   "source": [
    "import pandas as pd\n",
    "import math\n",
    "import numpy as np"
   ]
  },
  {
   "cell_type": "code",
   "execution_count": 2,
   "metadata": {},
   "outputs": [],
   "source": [
    "playerattributes = pd.DataFrame(data=pd.read_csv(\"./donnees_soccer/playerattributes.csv\", sep=\",\"))\n",
    "players=pd.DataFrame(data=pd.read_csv(\"./donnees_soccer/player.csv\", sep=\",\"))\n",
    "players_id = np.unique(playerattributes[[\"player_api_id\"]])"
   ]
  },
  {
   "cell_type": "markdown",
   "metadata": {},
   "source": [
    "### get_corre(att1, att2) retourne la corrélation entre playerAttributes.att1 et playerAttributes.att2"
   ]
  },
  {
   "cell_type": "code",
   "execution_count": 3,
   "metadata": {},
   "outputs": [],
   "source": [
    "def get_corre(att1,att2):\n",
    "    x = []\n",
    "    y = []\n",
    "    for pl in players_id:\n",
    "        player=playerattributes[playerattributes.player_api_id==pl]\n",
    "        x.append((player.sort_values(by = 'date', ascending = False)[:1][att1].values)[0])\n",
    "        y.append((player.sort_values(by = 'date', ascending = False)[:1][att2].values)[0])\n",
    "    #je remplace les nan par 50 la moeyenne\n",
    "    x=[50 if math.isnan(i) else i for i in x]\n",
    "    y=[50 if math.isnan(i) else i for i in y]\n",
    "    plt.rcdefaults()\n",
    "    fig, ax = plt.subplots()\n",
    "    ax.set_xlabel(\"pourcentage  \"+att1)\n",
    "    ax.set_ylabel(\"pourcentage \"+att2)\n",
    "    plt.scatter(x, y, alpha=0.5)\n",
    "    plt.show()\n",
    "    print(\"Le coefficient de correlation est = \",np.corrcoef(x, y)[1,0])"
   ]
  }
 ],
 "metadata": {
  "kernelspec": {
   "display_name": "Python 3",
   "language": "python",
   "name": "python3"
  },
  "language_info": {
   "codemirror_mode": {
    "name": "ipython",
    "version": 3
   },
   "file_extension": ".py",
   "mimetype": "text/x-python",
   "name": "python",
   "nbconvert_exporter": "python",
   "pygments_lexer": "ipython3",
   "version": "3.6.3"
  }
 },
 "nbformat": 4,
 "nbformat_minor": 2
}
