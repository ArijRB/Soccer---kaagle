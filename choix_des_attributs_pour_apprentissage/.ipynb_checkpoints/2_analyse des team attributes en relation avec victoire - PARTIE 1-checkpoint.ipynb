{
 "cells": [
  {
   "cell_type": "markdown",
   "metadata": {},
   "source": [
    "# I - Description du problème"
   ]
  },
  {
   "cell_type": "markdown",
   "metadata": {},
   "source": [
    "Dans ce notebook, on va commencer par analyser les attributs contenus dans la table \"teamAttributes\" afin de pouvoir faire le choix des attributs pour représenter mon vecteur d'équipe dans le notebook PARTIE 2. <br>"
   ]
  },
  {
   "cell_type": "markdown",
   "metadata": {},
   "source": [
    "# II - Préparation des données et Code"
   ]
  },
  {
   "cell_type": "code",
   "execution_count": 3,
   "metadata": {
    "collapsed": true
   },
   "outputs": [],
   "source": [
    "import numpy as np\n",
    "import pandas as pd\n",
    "from datetime import datetime as dt\n",
    "import matplotlib.pyplot as plt\n",
    "import math"
   ]
  },
  {
   "cell_type": "code",
   "execution_count": 4,
   "metadata": {
    "collapsed": true
   },
   "outputs": [],
   "source": [
    "playerattributes = pd.DataFrame(data=pd.read_csv(\"../donnees_soccer/playerattributes.csv\", sep=\",\"))\n",
    "players=pd.DataFrame(data=pd.read_csv(\"../donnees_soccer/player.csv\", sep=\",\"))\n",
    "players_id = np.unique(playerattributes[[\"player_api_id\"]])\n",
    "teamattributes = pd.DataFrame(data=pd.read_csv(\"../donnees_soccer/teamattributes.csv\", sep=\",\"))"
   ]
  },
  {
   "cell_type": "code",
   "execution_count": 5,
   "metadata": {},
   "outputs": [
    {
     "data": {
      "text/plain": [
       "Index(['id', 'team_fifa_api_id', 'team_api_id', 'date', 'buildUpPlaySpeed',\n",
       "       'buildUpPlaySpeedClass', 'buildUpPlayDribbling',\n",
       "       'buildUpPlayDribblingClass', 'buildUpPlayPassing',\n",
       "       'buildUpPlayPassingClass', 'buildUpPlayPositioningClass',\n",
       "       'chanceCreationPassing', 'chanceCreationPassingClass',\n",
       "       'chanceCreationCrossing', 'chanceCreationCrossingClass',\n",
       "       'chanceCreationShooting', 'chanceCreationShootingClass',\n",
       "       'chanceCreationPositioningClass', 'defencePressure',\n",
       "       'defencePressureClass', 'defenceAggression', 'defenceAggressionClass',\n",
       "       'defenceTeamWidth', 'defenceTeamWidthClass',\n",
       "       'defenceDefenderLineClass'],\n",
       "      dtype='object')"
      ]
     },
     "execution_count": 5,
     "metadata": {},
     "output_type": "execute_result"
    }
   ],
   "source": [
    "teamattributes.columns"
   ]
  },
  {
   "cell_type": "markdown",
   "metadata": {},
   "source": [
    "On remarque en préparant les données, que dans la table TeamAttributes, chaque attribut numérique a son associé qui représente la classe (exemple : 'chanceCreationPassing', 'chanceCreationPassingClass'). Ce serait donc util de voir pour chaque stratégie il y a combien de classes distincts qui représentent les valeurs numériques"
   ]
  },
  {
   "cell_type": "markdown",
   "metadata": {},
   "source": [
    "## On va donc voir pour chaque stratégie, il y a combien de classes distincts, et si une équipe donnée suit toujours la meme strategie ou non"
   ]
  },
  {
   "cell_type": "code",
   "execution_count": 6,
   "metadata": {
    "collapsed": true
   },
   "outputs": [],
   "source": [
    "def nbDistinctClasses(attribut):\n",
    "    var = teamattributes[[attribut]]\n",
    "    return (var.drop_duplicates().values.tolist())"
   ]
  },
  {
   "cell_type": "code",
   "execution_count": 7,
   "metadata": {
    "collapsed": true
   },
   "outputs": [],
   "source": [
    "#cette fonction compte le nombre de classes auxquels une équipe a pu appartenir pendant tous les match qu'elle a joué\n",
    "def nbStratEquipe(attribut):\n",
    "    var = teamattributes[[\"team_api_id\", attribut]].drop_duplicates()\n",
    "    var = var.groupby('team_api_id').count()\n",
    "    plt.hist(var.values)\n",
    "    plt.show()"
   ]
  },
  {
   "cell_type": "markdown",
   "metadata": {},
   "source": [
    "# III - Protocole Expérimentale"
   ]
  },
  {
   "cell_type": "markdown",
   "metadata": {},
   "source": [
    "## REMARQUE:\n",
    "## Les histogrammes construits dans la suite représenteront le nombre d'équipes qui suivent 1, 2 ou 3 classes distincts de stratégies (selon la stratégie étudiée) pendant le total des match qu'ils ont joué."
   ]
  },
  {
   "cell_type": "markdown",
   "metadata": {},
   "source": [
    "## buildUpPlaySpeed"
   ]
  },
  {
   "cell_type": "code",
   "execution_count": 8,
   "metadata": {},
   "outputs": [
    {
     "name": "stdout",
     "output_type": "stream",
     "text": [
      "[['Balanced'], ['Fast'], ['Slow']]\n",
      "3 classes distincts\n"
     ]
    }
   ],
   "source": [
    "tmp = nbDistinctClasses(\"buildUpPlaySpeedClass\")\n",
    "print(tmp)\n",
    "print(str(len(tmp)) + \" classes distincts\")"
   ]
  },
  {
   "cell_type": "code",
   "execution_count": 9,
   "metadata": {},
   "outputs": [
    {
     "data": {
      "image/png": "[encoded data removed]",
      "text/plain": [
       "<matplotlib.figure.Figure at 0x2407a458160>"
      ]
     },
     "metadata": {},
     "output_type": "display_data"
    }
   ],
   "source": [
    "nbStratEquipe(\"buildUpPlaySpeedClass\")"
   ]
  },
  {
   "cell_type": "markdown",
   "metadata": {},
   "source": [
    "## buildUpPlayDribbling"
   ]
  },
  {
   "cell_type": "code",
   "execution_count": 10,
   "metadata": {},
   "outputs": [
    {
     "name": "stdout",
     "output_type": "stream",
     "text": [
      "[['Little'], ['Normal'], ['Lots']]\n",
      "3 classes distincts\n"
     ]
    }
   ],
   "source": [
    "tmp = nbDistinctClasses(\"buildUpPlayDribblingClass\")\n",
    "print(tmp)\n",
    "print(str(len(tmp)) + \" classes distincts\")"
   ]
  },
  {
   "cell_type": "code",
   "execution_count": 11,
   "metadata": {},
   "outputs": [
    {
     "data": {
      "image/png": "[encoded data removed]",
      "text/plain": [
       "<matplotlib.figure.Figure at 0x2407cc11c50>"
      ]
     },
     "metadata": {},
     "output_type": "display_data"
    }
   ],
   "source": [
    "nbStratEquipe(\"buildUpPlayDribblingClass\")"
   ]
  },
  {
   "cell_type": "markdown",
   "metadata": {},
   "source": [
    "## buildUpPlayPassing"
   ]
  },
  {
   "cell_type": "code",
   "execution_count": 12,
   "metadata": {},
   "outputs": [
    {
     "name": "stdout",
     "output_type": "stream",
     "text": [
      "[['Mixed'], ['Long'], ['Short']]\n",
      "3 classes distincts\n"
     ]
    }
   ],
   "source": [
    "tmp = nbDistinctClasses(\"buildUpPlayPassingClass\")\n",
    "print(tmp)\n",
    "print(str(len(tmp)) + \" classes distincts\")"
   ]
  },
  {
   "cell_type": "code",
   "execution_count": 13,
   "metadata": {},
   "outputs": [
    {
     "data": {
      "image/png": "[encoded data removed]",
      "text/plain": [
       "<matplotlib.figure.Figure at 0x240061a21d0>"
      ]
     },
     "metadata": {},
     "output_type": "display_data"
    }
   ],
   "source": [
    "nbStratEquipe(\"buildUpPlayPassingClass\")"
   ]
  },
  {
   "cell_type": "markdown",
   "metadata": {},
   "source": [
    "## buildUpPlayPositioningClass"
   ]
  },
  {
   "cell_type": "code",
   "execution_count": 14,
   "metadata": {},
   "outputs": [
    {
     "name": "stdout",
     "output_type": "stream",
     "text": [
      "[['Organised'], ['Free Form']]\n",
      "2 classes distincts\n"
     ]
    }
   ],
   "source": [
    "tmp = nbDistinctClasses(\"buildUpPlayPositioningClass\")\n",
    "print(tmp)\n",
    "print(str(len(tmp)) + \" classes distincts\")"
   ]
  },
  {
   "cell_type": "code",
   "execution_count": 15,
   "metadata": {},
   "outputs": [
    {
     "data": {
      "image/png": "[encoded data removed]",
      "text/plain": [
       "<matplotlib.figure.Figure at 0x24003fae8d0>"
      ]
     },
     "metadata": {},
     "output_type": "display_data"
    }
   ],
   "source": [
    "nbStratEquipe(\"buildUpPlayPositioningClass\")"
   ]
  },
  {
   "cell_type": "markdown",
   "metadata": {},
   "source": [
    "## chanceCreationPassing"
   ]
  },
  {
   "cell_type": "code",
   "execution_count": 16,
   "metadata": {},
   "outputs": [
    {
     "name": "stdout",
     "output_type": "stream",
     "text": [
      "[['Normal'], ['Risky'], ['Safe']]\n",
      "3 classes distincts\n"
     ]
    }
   ],
   "source": [
    "tmp = nbDistinctClasses(\"chanceCreationPassingClass\")\n",
    "print(tmp)\n",
    "print(str(len(tmp)) + \" classes distincts\")"
   ]
  },
  {
   "cell_type": "code",
   "execution_count": 17,
   "metadata": {},
   "outputs": [
    {
     "data": {
      "image/png": "[encoded data removed]",
      "text/plain": [
       "<matplotlib.figure.Figure at 0x24003f50b00>"
      ]
     },
     "metadata": {},
     "output_type": "display_data"
    }
   ],
   "source": [
    "nbStratEquipe(\"chanceCreationPassingClass\")"
   ]
  },
  {
   "cell_type": "markdown",
   "metadata": {},
   "source": [
    "## chanceCreationCrossing"
   ]
  },
  {
   "cell_type": "code",
   "execution_count": 18,
   "metadata": {},
   "outputs": [
    {
     "name": "stdout",
     "output_type": "stream",
     "text": [
      "[['Normal'], ['Lots'], ['Little']]\n",
      "3 classes distincts\n"
     ]
    }
   ],
   "source": [
    "tmp = nbDistinctClasses(\"chanceCreationCrossingClass\")\n",
    "print(tmp)\n",
    "print(str(len(tmp)) + \" classes distincts\")"
   ]
  },
  {
   "cell_type": "code",
   "execution_count": 19,
   "metadata": {},
   "outputs": [
    {
     "data": {
      "image/png": "[encoded data removed]",
      "text/plain": [
       "<matplotlib.figure.Figure at 0x240061da1d0>"
      ]
     },
     "metadata": {},
     "output_type": "display_data"
    }
   ],
   "source": [
    "nbStratEquipe(\"chanceCreationCrossingClass\")"
   ]
  },
  {
   "cell_type": "markdown",
   "metadata": {},
   "source": [
    "## chanceCreationShooting"
   ]
  },
  {
   "cell_type": "code",
   "execution_count": 20,
   "metadata": {},
   "outputs": [
    {
     "name": "stdout",
     "output_type": "stream",
     "text": [
      "[['Normal'], ['Lots'], ['Little']]\n",
      "3 classes distincts\n"
     ]
    }
   ],
   "source": [
    "tmp = nbDistinctClasses(\"chanceCreationShootingClass\")\n",
    "print(tmp)\n",
    "print(str(len(tmp)) + \" classes distincts\")"
   ]
  },
  {
   "cell_type": "code",
   "execution_count": 21,
   "metadata": {},
   "outputs": [
    {
     "data": {
      "image/png": "[encoded data removed]",
      "text/plain": [
       "<matplotlib.figure.Figure at 0x2400635b588>"
      ]
     },
     "metadata": {},
     "output_type": "display_data"
    }
   ],
   "source": [
    "nbStratEquipe(\"chanceCreationShootingClass\")"
   ]
  },
  {
   "cell_type": "markdown",
   "metadata": {},
   "source": [
    "## chanceCreationPositioningClass"
   ]
  },
  {
   "cell_type": "code",
   "execution_count": 22,
   "metadata": {},
   "outputs": [
    {
     "name": "stdout",
     "output_type": "stream",
     "text": [
      "[['Organised'], ['Free Form']]\n",
      "2 classes distincts\n"
     ]
    }
   ],
   "source": [
    "tmp = nbDistinctClasses(\"chanceCreationPositioningClass\")\n",
    "print(tmp)\n",
    "print(str(len(tmp)) + \" classes distincts\")"
   ]
  },
  {
   "cell_type": "code",
   "execution_count": 23,
   "metadata": {},
   "outputs": [
    {
     "data": {
      "image/png": "[encoded data removed]",
      "text/plain": [
       "<matplotlib.figure.Figure at 0x2400630f9b0>"
      ]
     },
     "metadata": {},
     "output_type": "display_data"
    }
   ],
   "source": [
    "nbStratEquipe(\"chanceCreationPositioningClass\")"
   ]
  },
  {
   "cell_type": "markdown",
   "metadata": {},
   "source": [
    "## defencePressure"
   ]
  },
  {
   "cell_type": "code",
   "execution_count": 24,
   "metadata": {},
   "outputs": [
    {
     "name": "stdout",
     "output_type": "stream",
     "text": [
      "[['Medium'], ['Deep'], ['High']]\n",
      "3 classes distincts\n"
     ]
    }
   ],
   "source": [
    "tmp = nbDistinctClasses(\"defencePressureClass\")\n",
    "print(tmp)\n",
    "print(str(len(tmp)) + \" classes distincts\")"
   ]
  },
  {
   "cell_type": "code",
   "execution_count": 25,
   "metadata": {},
   "outputs": [
    {
     "data": {
      "image/png": "[encoded data removed]",
      "text/plain": [
       "<matplotlib.figure.Figure at 0x240063299e8>"
      ]
     },
     "metadata": {},
     "output_type": "display_data"
    }
   ],
   "source": [
    "nbStratEquipe(\"defencePressureClass\")"
   ]
  },
  {
   "cell_type": "markdown",
   "metadata": {},
   "source": [
    "## defenceAggression"
   ]
  },
  {
   "cell_type": "code",
   "execution_count": 26,
   "metadata": {},
   "outputs": [
    {
     "name": "stdout",
     "output_type": "stream",
     "text": [
      "[['Press'], ['Double'], ['Contain']]\n",
      "3 classes distincts\n"
     ]
    }
   ],
   "source": [
    "tmp = nbDistinctClasses(\"defenceAggressionClass\")\n",
    "print(tmp)\n",
    "print(str(len(tmp)) + \" classes distincts\")"
   ]
  },
  {
   "cell_type": "code",
   "execution_count": 27,
   "metadata": {},
   "outputs": [
    {
     "data": {
      "image/png": "[encoded data removed]",
      "text/plain": [
       "<matplotlib.figure.Figure at 0x2400625be48>"
      ]
     },
     "metadata": {},
     "output_type": "display_data"
    }
   ],
   "source": [
    "nbStratEquipe(\"defenceAggressionClass\")"
   ]
  },
  {
   "cell_type": "markdown",
   "metadata": {},
   "source": [
    "## defenceTeamWidth"
   ]
  },
  {
   "cell_type": "code",
   "execution_count": 28,
   "metadata": {},
   "outputs": [
    {
     "name": "stdout",
     "output_type": "stream",
     "text": [
      "[['Normal'], ['Wide'], ['Narrow']]\n",
      "3 classes distincts\n"
     ]
    }
   ],
   "source": [
    "tmp = nbDistinctClasses(\"defenceTeamWidthClass\")\n",
    "print(tmp)\n",
    "print(str(len(tmp)) + \" classes distincts\")"
   ]
  },
  {
   "cell_type": "code",
   "execution_count": 29,
   "metadata": {},
   "outputs": [
    {
     "data": {
      "image/png": "[encoded data removed]",
      "text/plain": [
       "<matplotlib.figure.Figure at 0x24006329a58>"
      ]
     },
     "metadata": {},
     "output_type": "display_data"
    }
   ],
   "source": [
    "nbStratEquipe(\"defenceTeamWidthClass\")"
   ]
  },
  {
   "cell_type": "markdown",
   "metadata": {},
   "source": [
    "## defenceDefenderLineClass"
   ]
  },
  {
   "cell_type": "code",
   "execution_count": 30,
   "metadata": {},
   "outputs": [
    {
     "name": "stdout",
     "output_type": "stream",
     "text": [
      "[['Cover'], ['Offside Trap']]\n",
      "2 classes distincts\n"
     ]
    }
   ],
   "source": [
    "tmp = nbDistinctClasses(\"defenceDefenderLineClass\")\n",
    "print(tmp)\n",
    "print(str(len(tmp)) + \" classes distincts\")"
   ]
  },
  {
   "cell_type": "code",
   "execution_count": 31,
   "metadata": {},
   "outputs": [
    {
     "data": {
      "image/png": "[encoded data removed]",
      "text/plain": [
       "<matplotlib.figure.Figure at 0x24003fdf198>"
      ]
     },
     "metadata": {},
     "output_type": "display_data"
    }
   ],
   "source": [
    "nbStratEquipe(\"defenceDefenderLineClass\")"
   ]
  },
  {
   "cell_type": "markdown",
   "metadata": {},
   "source": [
    "# IV - Conclusion :"
   ]
  },
  {
   "cell_type": "markdown",
   "metadata": {},
   "source": [
    "On peut conclure à partir des histogrammes construits , que pour chaque stratégie, il y a que 2 ou 3 classes qui la repésente. Et pendant tous les match, la plupart des équipes sont toujours en 1 ou 2 classes de chaque attribut. Et il y a que quelques équipes qui appartiennt à 3 classes pendant tous les match joués. <br>\n",
    "Pour cela, dans le notebook PARTIE 2, on étudiera l'effet des différents classes sur les victoires des équipes\n"
   ]
  }
 ],
 "metadata": {
  "kernelspec": {
   "display_name": "Python 3",
   "language": "python",
   "name": "python3"
  },
  "language_info": {
   "codemirror_mode": {
    "name": "ipython",
    "version": 3
   },
   "file_extension": ".py",
   "mimetype": "text/x-python",
   "name": "python",
   "nbconvert_exporter": "python",
   "pygments_lexer": "ipython3",
   "version": "3.6.3"
  }
 },
 "nbformat": 4,
 "nbformat_minor": 2
}
