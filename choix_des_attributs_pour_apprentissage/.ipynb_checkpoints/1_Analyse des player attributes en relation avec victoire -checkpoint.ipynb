{
 "cells": [
  {
   "cell_type": "markdown",
   "metadata": {},
   "source": [
    "# I - Description du problème"
   ]
  },
  {
   "cell_type": "markdown",
   "metadata": {},
   "source": [
    "Dans ce notebook, on voudrait étudier les différents attributs qui sont dans la table \"playerAttributes\" et leur relation avec la victoire de l'équipe à laquelle le joueur appratient. Pour cela nous allons étudier plusieurs correlations entre plusieurs attributs des joueurs, et le nombre de victoire que leurs équipes ont pu avoir au fil du temps.\n",
    "Cette analyse va nous servir afin de choisir lesquels des attributs représenter dans notre vecteur d'équipe pour la phase de prédiction des résultats des match"
   ]
  },
  {
   "cell_type": "markdown",
   "metadata": {},
   "source": [
    "# II - Préparation des Donnees"
   ]
  },
  {
   "cell_type": "code",
   "execution_count": 1,
   "metadata": {},
   "outputs": [],
   "source": [
    "import numpy as np\n",
    "import pandas as pd\n",
    "from datetime import datetime as dt\n",
    "import matplotlib.pyplot as plt\n",
    "%matplotlib inline  "
   ]
  },
  {
   "cell_type": "code",
   "execution_count": 2,
   "metadata": {},
   "outputs": [],
   "source": [
    "match = pd.DataFrame(data=pd.read_csv(\"../donnees_soccer/match.csv\", sep=\",\"))\n",
    "teamattributes = pd.DataFrame(data=pd.read_csv(\"../donnees_soccer/teamattributes.csv\", sep=\",\"))\n",
    "playerattributes = pd.DataFrame(data=pd.read_csv(\"../donnees_soccer/playerattributes.csv\", sep=\",\"))\n",
    "player = pd.DataFrame(data=pd.read_csv(\"../donnees_soccer/player.csv\", sep=\",\"))\n",
    "team = pd.DataFrame(data=pd.read_csv(\"../donnees_soccer/team.csv\", sep=\",\"))"
   ]
  },
  {
   "cell_type": "code",
   "execution_count": 3,
   "metadata": {},
   "outputs": [],
   "source": [
    "#liste des joueurs de chaque équipe durant le match\n",
    "players_team_home = ['home_player_1', \"home_player_2\", \"home_player_3\", \"home_player_4\", \"home_player_5\",\n",
    "               \"home_player_6\", \"home_player_7\", \"home_player_8\", \"home_player_9\", \"home_player_10\",\n",
    "               \"home_player_11\"]\n",
    "\n",
    "players_team_away = [\"away_player_1\", \"away_player_2\", \"away_player_3\", \"away_player_4\",\n",
    "               \"away_player_5\", \"away_player_6\", \"away_player_7\", \"away_player_8\", \"away_player_9\",\n",
    "               \"away_player_10\", \"away_player_11\"]"
   ]
  },
  {
   "cell_type": "code",
   "execution_count": 4,
   "metadata": {},
   "outputs": [],
   "source": [
    "#Liste des équipes\n",
    "teams_id = np.unique(team[[\"team_api_id\"]])"
   ]
  },
  {
   "cell_type": "code",
   "execution_count": 5,
   "metadata": {},
   "outputs": [],
   "source": [
    "#Liste des matchs\n",
    "match_id = np.unique(match[[\"match_api_id\"]])"
   ]
  },
  {
   "cell_type": "markdown",
   "metadata": {},
   "source": [
    "# III - Code"
   ]
  },
  {
   "cell_type": "code",
   "execution_count": 6,
   "metadata": {},
   "outputs": [],
   "source": [
    "team_wins = dict()\n",
    "nb_match= dict()\n",
    "nb_buts=dict()\n",
    "for ide in teams_id:\n",
    "    team_wins[ide] = 0    \n",
    "    nb_match[ide]=0\n",
    "    nb_buts[ide]=0"
   ]
  },
  {
   "cell_type": "markdown",
   "metadata": {},
   "source": [
    "### on calcule un score par equipe"
   ]
  },
  {
   "cell_type": "code",
   "execution_count": 7,
   "metadata": {},
   "outputs": [],
   "source": [
    "for idm in match_id:\n",
    "    \n",
    "    un_match = match[match[\"match_api_id\"]==idm]    \n",
    "    \n",
    "    home_team_id = (un_match[\"home_team_api_id\"].values)[0]\n",
    "    away_team_id = (un_match[\"away_team_api_id\"].values)[0]    \n",
    "    \n",
    "    home_goal = (un_match[\"home_team_goal\"].values)[0]\n",
    "    away_goal = (un_match[\"away_team_goal\"].values)[0]\n",
    "\n",
    "    nb_match[home_team_id]+=1\n",
    "    nb_match[away_team_id]+=1\n",
    "    \n",
    "    if(home_goal > away_goal):\n",
    "        team_wins[home_team_id] += 1\n",
    "    elif(away_goal > home_goal):\n",
    "        team_wins[away_team_id] += 1\n",
    "        \n",
    "#Normalisation des donnees        \n",
    "for k in team_wins.keys():\n",
    "    team_wins[k] = team_wins[k]/nb_match[k]"
   ]
  },
  {
   "cell_type": "markdown",
   "metadata": {},
   "source": [
    "### Relation team_attributes et player attribute"
   ]
  },
  {
   "cell_type": "code",
   "execution_count": 8,
   "metadata": {},
   "outputs": [],
   "source": [
    "#calcul d'un score pour un match par un attribut\n",
    "def get_attributs_fifa(matches, attribute):\n",
    "    result=dict()\n",
    "    \n",
    "    for ide in teams_id:\n",
    "        result[ide]=[]\n",
    "        result[ide].append(50)#on l'inistilise à la moyenne pour avoir une valeur dans tout les cas \n",
    "    \n",
    "    for idm in matches:\n",
    "        un_match = match[match[\"match_api_id\"]==idm]\n",
    "        home_team_id = (un_match[\"home_team_api_id\"].values)[0]\n",
    "        away_team_id = (un_match[\"away_team_api_id\"].values)[0] \n",
    "        un_match = un_match.dropna(axis=1)\n",
    "        \n",
    "        #on recupére la date du match \n",
    "        date = un_match['date']    \n",
    "        \n",
    "        tableau_home = []\n",
    "        tableau_away = []\n",
    "        for pl in players_team_home:\n",
    "            \n",
    "            if pl not in un_match.columns:\n",
    "                continue\n",
    "            idpl = (un_match[pl].values)[0]\n",
    "            player=playerattributes[playerattributes.player_api_id==idpl]\n",
    "            tableau_home.append((player.sort_values(by = 'date', ascending = False)[:1][attribute].values)[0])\n",
    "        result[home_team_id].append(np.nanmean(tableau_home))\n",
    "\n",
    "        for pl in players_team_away:\n",
    "        \n",
    "            if pl not in un_match.columns:\n",
    "                continue\n",
    "            \n",
    "            idpl = (un_match[pl].values)[0]\n",
    "            player=playerattributes[playerattributes[\"player_api_id\"]==idpl]\n",
    "            tableau_away.append((player.sort_values(by = 'date', ascending = False)[:1][attribute].values)[0])\n",
    "        \n",
    "        result[home_team_id].append(np.nanmean(tableau_away))\n",
    "    for k in result.keys():\n",
    "        result[k] = np.nanmean(result[k])/100\n",
    "    return result"
   ]
  },
  {
   "cell_type": "markdown",
   "metadata": {},
   "source": [
    "# IV - Protocole Expérimental"
   ]
  },
  {
   "cell_type": "markdown",
   "metadata": {},
   "source": [
    "La représentation des victoires de l'équipe sera fait en calculant le nombre des matchs où il était gagnant au fil du temps (ce qu'on a fait dans le dictionnaire \"team_wins\")"
   ]
  },
  {
   "cell_type": "markdown",
   "metadata": {},
   "source": [
    "### A - Relation entre Agressivité et Victoire"
   ]
  },
  {
   "cell_type": "code",
   "execution_count": 9,
   "metadata": {},
   "outputs": [
    {
     "name": "stderr",
     "output_type": "stream",
     "text": [
      "c:\\users\\taleb\\appdata\\local\\programs\\python\\python36\\lib\\site-packages\\ipykernel_launcher.py:27: RuntimeWarning: Mean of empty slice\n",
      "c:\\users\\taleb\\appdata\\local\\programs\\python\\python36\\lib\\site-packages\\ipykernel_launcher.py:38: RuntimeWarning: Mean of empty slice\n"
     ]
    }
   ],
   "source": [
    "agressivity=get_attributs_fifa(match_id,\"aggression\")"
   ]
  },
  {
   "cell_type": "code",
   "execution_count": 10,
   "metadata": {},
   "outputs": [
    {
     "data": {
      "image/png": "[encoded data removed]",
      "text/plain": [
       "<matplotlib.figure.Figure at 0x1d4c8cf4a58>"
      ]
     },
     "metadata": {},
     "output_type": "display_data"
    },
    {
     "data": {
      "text/plain": [
       "0.19292313476487635"
      ]
     },
     "execution_count": 10,
     "metadata": {},
     "output_type": "execute_result"
    }
   ],
   "source": [
    "x_victoire = []\n",
    "y_agressivity = []\n",
    "for k in team_wins.keys():\n",
    "    x_victoire.append(team_wins[k])\n",
    "    y_agressivity.append(agressivity[k])\n",
    "    \n",
    "plt.scatter(x_victoire, y_agressivity, alpha=0.5)\n",
    "plt.show()\n",
    "np.corrcoef(x_victoire, y_agressivity)[1,0]\n"
   ]
  },
  {
   "cell_type": "markdown",
   "metadata": {},
   "source": [
    "### B - Relation entre Agilité et Victoire"
   ]
  },
  {
   "cell_type": "code",
   "execution_count": 11,
   "metadata": {},
   "outputs": [
    {
     "name": "stderr",
     "output_type": "stream",
     "text": [
      "c:\\users\\taleb\\appdata\\local\\programs\\python\\python36\\lib\\site-packages\\ipykernel_launcher.py:27: RuntimeWarning: Mean of empty slice\n",
      "c:\\users\\taleb\\appdata\\local\\programs\\python\\python36\\lib\\site-packages\\ipykernel_launcher.py:38: RuntimeWarning: Mean of empty slice\n"
     ]
    },
    {
     "data": {
      "image/png": "[encoded data removed]",
      "text/plain": [
       "<matplotlib.figure.Figure at 0x1d4c8d5a630>"
      ]
     },
     "metadata": {},
     "output_type": "display_data"
    },
    {
     "data": {
      "text/plain": [
       "0.4317631593215245"
      ]
     },
     "execution_count": 11,
     "metadata": {},
     "output_type": "execute_result"
    }
   ],
   "source": [
    "agility=get_attributs_fifa(match_id,\"agility\")\n",
    "x_victoire = []\n",
    "y_agility = []\n",
    "for k in team_wins.keys():\n",
    "    x_victoire.append(team_wins[k])\n",
    "    y_agility.append(agility[k])\n",
    "    \n",
    "plt.scatter(x_victoire, y_agility, alpha=0.5)\n",
    "plt.show()\n",
    "np.corrcoef(x_victoire, y_agility)[1,0]\n"
   ]
  },
  {
   "cell_type": "markdown",
   "metadata": {},
   "source": [
    "### C - Relation entre ball_control et Victoire"
   ]
  },
  {
   "cell_type": "code",
   "execution_count": 12,
   "metadata": {},
   "outputs": [
    {
     "name": "stderr",
     "output_type": "stream",
     "text": [
      "c:\\users\\taleb\\appdata\\local\\programs\\python\\python36\\lib\\site-packages\\ipykernel_launcher.py:27: RuntimeWarning: Mean of empty slice\n",
      "c:\\users\\taleb\\appdata\\local\\programs\\python\\python36\\lib\\site-packages\\ipykernel_launcher.py:38: RuntimeWarning: Mean of empty slice\n"
     ]
    },
    {
     "data": {
      "image/png": "[encoded data removed]",
      "text/plain": [
       "<matplotlib.figure.Figure at 0x1d4cb0dc080>"
      ]
     },
     "metadata": {},
     "output_type": "display_data"
    },
    {
     "data": {
      "text/plain": [
       "0.32255481627238"
      ]
     },
     "execution_count": 12,
     "metadata": {},
     "output_type": "execute_result"
    }
   ],
   "source": [
    "ball_control=get_attributs_fifa(match_id,\"ball_control\")\n",
    "x_victoire = []\n",
    "y_ball_control = []\n",
    "for k in team_wins.keys():\n",
    "    x_victoire.append(team_wins[k])\n",
    "    y_ball_control.append(ball_control[k])\n",
    "    \n",
    "plt.scatter(x_victoire, y_ball_control, alpha=0.5)\n",
    "plt.show()\n",
    "np.corrcoef(x_victoire, y_ball_control)[1,0]\n"
   ]
  },
  {
   "cell_type": "markdown",
   "metadata": {},
   "source": [
    "### D - Relation entre Curve et Victoire"
   ]
  },
  {
   "cell_type": "code",
   "execution_count": null,
   "metadata": {},
   "outputs": [
    {
     "name": "stderr",
     "output_type": "stream",
     "text": [
      "c:\\users\\taleb\\appdata\\local\\programs\\python\\python36\\lib\\site-packages\\ipykernel_launcher.py:27: RuntimeWarning: Mean of empty slice\n",
      "c:\\users\\taleb\\appdata\\local\\programs\\python\\python36\\lib\\site-packages\\ipykernel_launcher.py:38: RuntimeWarning: Mean of empty slice\n"
     ]
    }
   ],
   "source": [
    "curve=get_attributs_fifa(match_id,\"curve\")\n",
    "x_victoire = []\n",
    "y_curve = []\n",
    "for k in team_wins.keys():\n",
    "    x_victoire.append(team_wins[k])\n",
    "    y_curve.append(curve[k])\n",
    "    \n",
    "plt.scatter(x_victoire, y_curve, alpha=0.5)\n",
    "plt.show()\n",
    "np.corrcoef(x_victoire, y_curve)[1,0]\n"
   ]
  },
  {
   "cell_type": "markdown",
   "metadata": {},
   "source": [
    "### E - Relation entre Strength et Victoire"
   ]
  },
  {
   "cell_type": "code",
   "execution_count": null,
   "metadata": {},
   "outputs": [],
   "source": [
    "strength=get_attributs_fifa(match_id,\"strength\")\n",
    "x_victoire = []\n",
    "y_strength = []\n",
    "for k in team_wins.keys():\n",
    "    x_victoire.append(team_wins[k])\n",
    "    y_strength.append(strength[k])\n",
    "    \n",
    "plt.scatter(x_victoire, y_strength, alpha=0.5)\n",
    "plt.show()\n",
    "np.corrcoef(x_victoire, y_strength)[1,0]\n"
   ]
  },
  {
   "cell_type": "markdown",
   "metadata": {},
   "source": [
    "### F - Relation entre Stamina et Victoire"
   ]
  },
  {
   "cell_type": "code",
   "execution_count": null,
   "metadata": {},
   "outputs": [],
   "source": [
    "stamina=get_attributs_fifa(match_id,\"stamina\")\n",
    "x_victoire = []\n",
    "y_stamina = []\n",
    "for k in team_wins.keys():\n",
    "    x_victoire.append(team_wins[k])\n",
    "    y_stamina.append(stamina[k])\n",
    "    \n",
    "plt.scatter(x_victoire, y_stamina, alpha=0.5)\n",
    "plt.show()\n",
    "np.corrcoef(x_victoire, y_stamina)[1,0]\n"
   ]
  },
  {
   "cell_type": "markdown",
   "metadata": {},
   "source": [
    "### G - Relation entre Potentiel et Victoire"
   ]
  },
  {
   "cell_type": "code",
   "execution_count": null,
   "metadata": {},
   "outputs": [],
   "source": [
    "potential=get_attributs_fifa(match_id,\"potential\")\n",
    "x_victoire = []\n",
    "y_potential = []\n",
    "for k in team_wins.keys():\n",
    "    x_victoire.append(team_wins[k])\n",
    "    y_potential.append(potential[k])\n",
    "    \n",
    "plt.scatter(x_victoire, y_potential, alpha=0.5)\n",
    "plt.show()\n",
    "np.corrcoef(x_victoire, y_potential)[1,0]\n"
   ]
  },
  {
   "cell_type": "markdown",
   "metadata": {},
   "source": [
    "### H - Relation entre Overall Rating et Victoire"
   ]
  },
  {
   "cell_type": "code",
   "execution_count": null,
   "metadata": {},
   "outputs": [],
   "source": [
    "overall_rating=get_attributs_fifa(match_id,\"overall_rating\")\n",
    "x_victoire = []\n",
    "y_overall_rating= []\n",
    "for k in team_wins.keys():\n",
    "    x_victoire.append(team_wins[k])\n",
    "    y_overall_rating.append(overall_rating[k])\n",
    "    \n",
    "plt.scatter(x_victoire, y_overall_rating, alpha=0.5)\n",
    "plt.show()\n",
    "np.corrcoef(x_victoire, y_overall_rating)[1,0]\n"
   ]
  },
  {
   "cell_type": "markdown",
   "metadata": {},
   "source": [
    "# V - CONCLUSION:"
   ]
  },
  {
   "cell_type": "markdown",
   "metadata": {},
   "source": [
    "A partir de toutes les relations étudiées, et en pensant logiquement aux différents attributs étudiés, on a décidé de garder 5 de ces attributs pour représenter une équipe lors d'un match, afin de faire le machine mearning plus tard: <br>\n",
    "Stamina <br>\n",
    "Ball Control <br>\n",
    "Overall Rating <br>\n",
    "Agilité <br>\n",
    "Potentiel"
   ]
  }
 ],
 "metadata": {
  "kernelspec": {
   "display_name": "Python 3",
   "language": "python",
   "name": "python3"
  },
  "language_info": {
   "codemirror_mode": {
    "name": "ipython",
    "version": 3
   },
   "file_extension": ".py",
   "mimetype": "text/x-python",
   "name": "python",
   "nbconvert_exporter": "python",
   "pygments_lexer": "ipython3",
   "version": "3.6.3"
  }
 },
 "nbformat": 4,
 "nbformat_minor": 2
}
